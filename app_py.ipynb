{
  "cells": [
    {
      "cell_type": "markdown",
      "metadata": {
        "id": "view-in-github",
        "colab_type": "text"
      },
      "source": [
        "<a href=\"https://colab.research.google.com/github/DanaAbdrakhmanova/Auto-Catalog/blob/main/app_py.ipynb\" target=\"_parent\"><img src=\"https://colab.research.google.com/assets/colab-badge.svg\" alt=\"Open In Colab\"/></a>"
      ]
    },
    {
      "cell_type": "code",
      "execution_count": null,
      "metadata": {
        "colab": {
          "base_uri": "https://localhost:8080/"
        },
        "id": "Xhw4K-UDZHs-",
        "outputId": "fb121521-a0af-4cc7-b54f-5de2a5fbe58a"
      },
      "outputs": [
        {
          "output_type": "stream",
          "name": "stdout",
          "text": [
            "Overwriting app2.py\n"
          ]
        }
      ],
      "source": [
        "%%writefile app2.py\n",
        "import streamlit as st\n",
        "import pandas as pd\n",
        "\n",
        "# Загрузка данных\n",
        "df = pd.read_csv(\"vehicles.csv\")\n",
        "\n",
        "st.title(\"🚗 Автомобильный каталог\")\n",
        "\n",
        "# Фильтры\n",
        "brand = st.selectbox(\"Выберите марку\", sorted(df['make'].dropna().unique()))\n",
        "mode = st.selectbox(\"Выберите модель\", sorted(df['model'].dropna().unique()))\n",
        "year = st.slider(\"Год выпуска\", int(df['year'].min()), int(df['year'].max()), step=1)\n",
        "\n",
        "filtered = df[\n",
        "    (df['make'] == brand) &\n",
        "    (df['model'] == mode) &\n",
        "    (df['year'] == year)\n",
        "]\n",
        "\n",
        "st.subheader(\"🔍 Найденные автомобили\")\n",
        "st.dataframe(filtered[['make', 'model', 'year', 'fuelType', 'drive']].drop_duplicates())\n",
        "\n",
        "# Рекомендации\n",
        "st.subheader(\"🎯 Рекомендуемые автомобили\")\n",
        "recommend = df[\n",
        "    (df['model'] == mode) &\n",
        "    (df['make'] != brand)\n",
        "].drop_duplicates(subset=['make', 'model']).head(5)\n",
        "\n",
        "st.table(recommend[['make', 'model', 'year', 'fuelType']])\n"
      ]
    },
    {
      "cell_type": "code",
      "execution_count": null,
      "metadata": {
        "colab": {
          "base_uri": "https://localhost:8080/"
        },
        "id": "AT2tbrbjagxq",
        "outputId": "a8f5a3b7-8fdf-4fc1-9c3e-c129fb272cf7"
      },
      "outputs": [
        {
          "output_type": "stream",
          "name": "stdout",
          "text": [
            "\n",
            "Collecting usage statistics. To deactivate, set browser.gatherUsageStats to false.\n",
            "\u001b[0m\n",
            "\u001b[0m\n",
            "\u001b[34m\u001b[1m  You can now view your Streamlit app in your browser.\u001b[0m\n",
            "\u001b[0m\n",
            "\u001b[34m  Local URL: \u001b[0m\u001b[1mhttp://localhost:8513\u001b[0m\n",
            "\u001b[34m  Network URL: \u001b[0m\u001b[1mhttp://172.28.0.12:8513\u001b[0m\n",
            "\u001b[34m  External URL: \u001b[0m\u001b[1mhttp://34.141.164.196:8513\u001b[0m\n",
            "\u001b[0m\n",
            "🔗 Перейди по ссылке: NgrokTunnel: \"https://515a-34-141-164-196.ngrok-free.app\" -> \"http://localhost:8000\"\n"
          ]
        }
      ],
      "source": [
        "import threading\n",
        "import time\n",
        "from pyngrok import ngrok\n",
        "\n",
        "# Запуск streamlit в фоне\n",
        "def run():\n",
        "    !streamlit run app.py\n",
        "\n",
        "thread = threading.Thread(target=run)\n",
        "thread.start()\n",
        "\n",
        "# Ждем запуск\n",
        "time.sleep(5)\n",
        "7\n",
        "# Подключение туннеля\n",
        "\n",
        "public_url = ngrok.connect(8012)\n",
        "print(\"🔗 Перейди по ссылке:\", public_url)\n"
      ]
    },
    {
      "cell_type": "code",
      "execution_count": null,
      "metadata": {
        "colab": {
          "base_uri": "https://localhost:8080/"
        },
        "id": "2bWkjHkbdQyv",
        "outputId": "50b29df9-6363-484c-8da8-38966332bddf"
      },
      "outputs": [
        {
          "name": "stderr",
          "output_type": "stream",
          "text": [
            "2025-07-04 17:23:03.216 Thread 'MainThread': missing ScriptRunContext! This warning can be ignored when running in bare mode.\n",
            "2025-07-04 17:23:03.218 Thread 'MainThread': missing ScriptRunContext! This warning can be ignored when running in bare mode.\n",
            "2025-07-04 17:23:03.219 Thread 'MainThread': missing ScriptRunContext! This warning can be ignored when running in bare mode.\n",
            "2025-07-04 17:23:03.221 Thread 'MainThread': missing ScriptRunContext! This warning can be ignored when running in bare mode.\n",
            "2025-07-04 17:23:03.222 Thread 'MainThread': missing ScriptRunContext! This warning can be ignored when running in bare mode.\n",
            "2025-07-04 17:23:03.223 Thread 'MainThread': missing ScriptRunContext! This warning can be ignored when running in bare mode.\n",
            "2025-07-04 17:23:03.225 Thread 'MainThread': missing ScriptRunContext! This warning can be ignored when running in bare mode.\n",
            "2025-07-04 17:23:03.226 Thread 'MainThread': missing ScriptRunContext! This warning can be ignored when running in bare mode.\n",
            "2025-07-04 17:23:03.226 Thread 'MainThread': missing ScriptRunContext! This warning can be ignored when running in bare mode.\n"
          ]
        }
      ],
      "source": [
        "st.write(\"Доступные колонки:\", df.columns.tolist())\n"
      ]
    },
    {
      "cell_type": "code",
      "execution_count": null,
      "metadata": {
        "colab": {
          "base_uri": "https://localhost:8080/"
        },
        "id": "3iAHNkTxdpQR",
        "outputId": "a6cd3a19-74d1-4cc9-909b-b14c70a6bb9c"
      },
      "outputs": [
        {
          "name": "stdout",
          "output_type": "stream",
          "text": [
            "['barrels08', 'barrelsA08', 'charge120', 'charge240', 'city08', 'city08U', 'cityA08', 'cityA08U', 'cityCD', 'cityE', 'cityUF', 'co2', 'co2A', 'co2TailpipeAGpm', 'co2TailpipeGpm', 'comb08', 'comb08U', 'combA08', 'combA08U', 'combE', 'combinedCD', 'combinedUF', 'cylinders', 'displ', 'drive', 'engId', 'eng_dscr', 'feScore', 'fuelCost08', 'fuelCostA08', 'fuelType', 'fuelType1', 'ghgScore', 'ghgScoreA', 'highway08', 'highway08U', 'highwayA08', 'highwayA08U', 'highwayCD', 'highwayE', 'highwayUF', 'hlv', 'hpv', 'id', 'lv2', 'lv4', 'make', 'model', 'mpgData', 'phevBlended', 'pv2', 'pv4', 'range', 'rangeCity', 'rangeCityA', 'rangeHwy', 'rangeHwyA', 'trany', 'UCity', 'UCityA', 'UHighway', 'UHighwayA', 'VClass', 'year', 'youSaveSpend', 'baseModel', 'guzzler', 'trans_dscr', 'tCharger', 'sCharger', 'atvType', 'fuelType2', 'rangeA', 'evMotor', 'mfrCode', 'c240Dscr', 'charge240b', 'c240bDscr', 'createdOn', 'modifiedOn', 'startStop', 'phevCity', 'phevHwy', 'phevComb']\n"
          ]
        }
      ],
      "source": [
        "print(df.columns.tolist())"
      ]
    },
    {
      "cell_type": "code",
      "execution_count": null,
      "metadata": {
        "id": "mQb4OYU2fsZY"
      },
      "outputs": [],
      "source": [
        "!streamlit run app2.py --server.port 8501 &>/content/logs.txt &\n"
      ]
    },
    {
      "cell_type": "code",
      "source": [
        "# 🚀 УНИВЕРСАЛЬНАЯ ЯЧЕЙКА ДЛЯ ЗАПУСКА STREAMLIT + NGROK В COLAB\n",
        "\n",
        "# Установка зависимостей\n",
        "!pip install -q streamlit pyngrok\n",
        "\n",
        "# Импорты\n",
        "import os\n",
        "import time\n",
        "import threading\n",
        "from pyngrok import ngrok\n",
        "import shutil\n",
        "\n",
        "# ⬇️ Создание файла с приложением\n",
        "with open(\"app2.py\", \"w\") as f:\n",
        "    f.write(\"\"\"\n",
        "import streamlit as st\n",
        "import pandas as pd\n",
        "\n",
        "# Загрузка данных\n",
        "df = pd.read_csv(\"vehicles.csv\")\n",
        "\n",
        "st.title(\"🚗 Автомобильный каталог\")\n",
        "\n",
        "# Фильтры\n",
        "brand = st.selectbox(\"Выберите марку\", sorted(df['make'].dropna().unique()))\n",
        "mode = st.selectbox(\"Выберите модель\", sorted(df['model'].dropna().unique()))\n",
        "year = st.slider(\"Год выпуска\", int(df['year'].min()), int(df['year'].max()), step=1)\n",
        "\n",
        "filtered = df[\n",
        "    (df['make'] == brand) &\n",
        "    (df['model'] == mode) &\n",
        "    (df['year'] == year)\n",
        "]\n",
        "\n",
        "st.subheader(\"🔍 Найденные автомобили\")\n",
        "st.dataframe(filtered[['make', 'model', 'year', 'fuelType', 'drive']].drop_duplicates())\n",
        "\n",
        "# Рекомендации\n",
        "st.subheader(\"🎯 Рекомендуемые автомобили\")\n",
        "recommend = df[\n",
        "    (df['model'] == mode) &\n",
        "    (df['make'] != brand)\n",
        "].drop_duplicates(subset=['make', 'model']).head(5)\n",
        "\n",
        "st.table(recommend[['make', 'model', 'year', 'fuelType']])\n",
        "\"\"\")\n",
        "\n",
        "# ⬇️ Если файл не загружен вручную — копируем с /mnt/data\n",
        "if not os.path.exists(\"vehicles.csv\"):\n",
        "    try:\n",
        "        shutil.copy(\"/mnt/data/vehicles.csv\", \"vehicles.csv\")\n",
        "    except:\n",
        "        print(\"⚠️ Файл vehicles.csv не найден! Загрузите его вручную в левую панель Colab.\")\n",
        "\n",
        "# ⛓️ ВСТАВЬ СВОЙ NGROK TOKEN НИЖЕ\n",
        "NGROK_TOKEN = \"2zQ2f6HuyeZ5cuSlmysQnGkBikp_3GdH69YBeJCNAyJ45icWG\"\n",
        "ngrok.set_auth_token(NGROK_TOKEN)\n",
        "\n",
        "# 🔌 Запуск Streamlit-приложения\n",
        "def run():\n",
        "    os.system(\"streamlit run app2.py --server.port 8501\")\n",
        "\n",
        "threading.Thread(target=run).start()\n",
        "\n",
        "# ⏳ Ждем запуска Streamlit\n",
        "time.sleep(5)\n",
        "\n",
        "# 🌍 Подключаем туннель ngrok\n",
        "public_url = ngrok.connect(8501)\n",
        "print(f\"✅ Готово! Переходи по ссылке: {public_url}\")\n"
      ],
      "metadata": {
        "id": "YNmt4zuxo7cA"
      },
      "execution_count": null,
      "outputs": []
    },
    {
      "cell_type": "code",
      "source": [],
      "metadata": {
        "id": "ZpKDHVHRqRnF"
      },
      "execution_count": null,
      "outputs": []
    }
  ],
  "metadata": {
    "colab": {
      "provenance": [],
      "authorship_tag": "ABX9TyPO09vQZJx0IZwYsHBSR5L1",
      "include_colab_link": true
    },
    "kernelspec": {
      "display_name": "Python 3",
      "name": "python3"
    },
    "language_info": {
      "name": "python"
    }
  },
  "nbformat": 4,
  "nbformat_minor": 0
}